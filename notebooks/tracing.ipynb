{
 "cells": [
  {
   "cell_type": "code",
   "execution_count": 2,
   "metadata": {},
   "outputs": [],
   "source": [
    "import os\n",
    "import numpy as np\n",
    "import tomlkit\n",
    "import torch\n",
    "import matplotlib.pyplot as plt\n",
    "from DTransformer.data import KTData, Transform\n",
    "from DTransformer.model import DTransformer\n",
    "\n",
    "\n",
    "DATA_DIR = \"../data\"\n",
    "data_name = 'assist09'\n",
    "\n",
    "datasets = tomlkit.load(open(os.path.join(DATA_DIR, \"datasets.toml\")))\n",
    "dataset = datasets[data_name]\n",
    "\n",
    "test_data = KTData(os.path.join(DATA_DIR, dataset[\"test\"]), dataset[\"inputs\"])\n",
    "data = test_data[12]"
   ]
  },
  {
   "cell_type": "code",
   "execution_count": 3,
   "metadata": {},
   "outputs": [],
   "source": [
    "args = {'d_model': 128, 'n_heads': 8, 'n_know': 32, 'n_layers': 3, 'from_file': '../output/DT_assist09.pt'}\n",
    "\n",
    "model = DTransformer(\n",
    "    dataset[\"n_questions\"],\n",
    "    dataset[\"n_pid\"],\n",
    "    d_model=args['d_model'],\n",
    "    n_heads=args['n_heads'],\n",
    "    n_know=args['n_know'],\n",
    "    n_layers=args['n_layers'],\n",
    ")\n",
    "\n",
    "model.load_state_dict(torch.load(args['from_file'], map_location=lambda s, _: s))\n",
    "model.eval();"
   ]
  },
  {
   "cell_type": "code",
   "execution_count": 7,
   "metadata": {},
   "outputs": [
    {
     "data": {
      "text/plain": [
       "torch.Size([32, 183])"
      ]
     },
     "execution_count": 7,
     "metadata": {},
     "output_type": "execute_result"
    }
   ],
   "source": [
    "q, s, pid = data.get('q', 's', 'pid')\n",
    "q = q.unsqueeze(0)\n",
    "s = s.unsqueeze(0)\n",
    "if pid is not None:\n",
    "    pid = pid.unsqueeze(0)\n",
    "with torch.no_grad():\n",
    "    # q_emb: (bs, seq_len, d_model)\n",
    "    # z: (bs, seq_len, n_know * d_model)\n",
    "    # know_params: (n_know, d_model)->(n_know, 1, d_model)\n",
    "    q_emb, s_emb, lens, p_diff = model.embedding(q, s, pid)\n",
    "    z, q_scores, k_scores = model(q_emb, s_emb, lens)\n",
    "    query = model.know_params.unsqueeze(1).expand(-1, z.size(1), -1).contiguous()\n",
    "    z = z.expand(model.n_know, -1, -1).contiguous()\n",
    "    h = model.readout(z, query)\n",
    "    y = model.out(torch.cat([query, h], dim=-1)).squeeze(-1)\n",
    "    y = torch.sigmoid(y)\n",
    "\n",
    "y.size()"
   ]
  },
  {
   "cell_type": "code",
   "execution_count": 67,
   "metadata": {},
   "outputs": [],
   "source": [
    "def trace_map(alpha, figsize, cmap='RdYlGn'):\n",
    "    fig, ax = plt.subplots(1, 1, figsize=figsize)\n",
    "    im = ax.pcolormesh(alpha, edgecolors='w', linewidth=0.4, cmap=cmap, clim=(0,1))\n",
    "    ax.invert_yaxis()\n",
    "    ax.set_xticks(np.arange(0, alpha.shape[1]+1, 5))\n",
    "    ax.set_yticks(np.arange(0, alpha.shape[0]+1, 5))\n",
    "    cbar = plt.colorbar(im, ax=ax, location='right')"
   ]
  },
  {
   "cell_type": "code",
   "execution_count": 75,
   "metadata": {},
   "outputs": [
    {
     "data": {
      "image/png": "[encoded data removed]",
      "text/plain": [
       "<Figure size 1800x300 with 2 Axes>"
      ]
     },
     "metadata": {},
     "output_type": "display_data"
    }
   ],
   "source": [
    "trace_map(y[12:25, :50].numpy(), (18, 3))"
   ]
  },
  {
   "cell_type": "code",
   "execution_count": null,
   "metadata": {},
   "outputs": [],
   "source": []
  }
 ],
 "metadata": {
  "kernelspec": {
   "display_name": "Python 3.9.7 ('venv': venv)",
   "language": "python",
   "name": "python3"
  },
  "language_info": {
   "codemirror_mode": {
    "name": "ipython",
    "version": 3
   },
   "file_extension": ".py",
   "mimetype": "text/x-python",
   "name": "python",
   "nbconvert_exporter": "python",
   "pygments_lexer": "ipython3",
   "version": "3.9.7"
  },
  "orig_nbformat": 4,
  "vscode": {
   "interpreter": {
    "hash": "0695bf328a216ebbc62f4f08a32b930665d93b3a3b80a70649fbe6f39cb74fa1"
   }
  }
 },
 "nbformat": 4,
 "nbformat_minor": 2
}
